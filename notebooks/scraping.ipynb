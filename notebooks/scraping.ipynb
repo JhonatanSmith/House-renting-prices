{
 "cells": [
  {
   "cell_type": "markdown",
   "metadata": {},
   "source": [
    "# Scraping\n",
    "\n",
    "In this first step, we will capture the data from the internet. The idea is to create a scraper to gather data regarding house pricing. Now, there are a lot of pages where we could obtain that data. To this specific exercise, we will use the folloging web pages;\n",
    "\n",
    " * https://casas.trovit.com.co/arriendo-valle-aburra\n",
    " * https://www.espaciourbano.com/listado_arriendos.asp?sZona=1\n",
    " * https://inmobiliariasantillana.co/propiedades/?filter=true&tipo_de_negocio=Arriendo\n",
    " * https://www.fincaraiz.com.co/arriendo?&searchstring=bello\n",
    " * https://www.fincaraiz.com.co/arriendo/casas-y-apartamentos-y-edificios-y-apartaestudios-y-cabanas-y-casas-campestres/antioquia\n",
    " * https://www.metrocuadrado.com/apartaestudio-apartamento-casa-edificio-de-apartamentos/arriendo/medellin/?search=form\n",
    "  \n",
    "NOTA: fincaraiz.com requieres Selenium. metrocuadrado.com as well. "
   ]
  },
  {
   "cell_type": "markdown",
   "metadata": {},
   "source": [
    "# First page: casas.trovit.com.co\n",
    "\n",
    "Let's first create an schema to obtain all data from this source. At the very begginig we will need to import scraping libraries\n",
    "\n",
    "Vamos a acceder a cada una de las páginas de la web y revisar de donde vamos a sacar cada uno de los datos qe necesitamos.\n",
    "\n",
    "Entendiendo en  que contenedores se almacena la información, vamos a hacer una extracción de ejmplo para ver como la trae beautifulsoup\n",
    "\n",
    "a manera de ejemplo, vamos a sacar la información de la página https://casas.trovit.com.co/detail/0194c892-64b0-7797-996b-88bff0e32618?type=direct\n",
    "\n",
    "vamos a extraer: area, habitaciones, precio, parqueadero, baños, latitud, longitud, estrato, tipo de propiedad, ciudad, departamento, tipo de operación, año de construcción, descripción\n",
    "\n"
   ]
  },
  {
   "cell_type": "code",
   "execution_count": 1,
   "metadata": {},
   "outputs": [],
   "source": [
    "# Scraping libraries\n",
    "import requests\n",
    "from bs4 import BeautifulSoup\n",
    "# import urllib\n"
   ]
  },
  {
   "cell_type": "code",
   "execution_count": 5,
   "metadata": {},
   "outputs": [
    {
     "name": "stdout",
     "output_type": "stream",
     "text": [
      "HTML Content has been saved succcesfully\n"
     ]
    },
    {
     "data": {
      "text/plain": [
       "'<!doctype html>\\n<html lang=\"es\">\\n<head>\\n    <meta http-equiv=\"X-UA-Compatible\" content=\"IE=edge\" />\\n'"
      ]
     },
     "execution_count": 5,
     "metadata": {},
     "output_type": "execute_result"
    }
   ],
   "source": [
    "\n",
    "url = \"https://casas.trovit.com.co/detail/0194c892-64b0-7797-996b-88bff0e32618?type=direct\"\n",
    "response = requests.get(url)\n",
    "\n",
    "# Looking into the HTML\n",
    "html_content = response.text\n",
    "\n",
    "with open(\"anuncio.txt\", \"w\", encoding='utf-8') as file:\n",
    "    file.write(html_content)\n",
    "    print('HTML Content has been saved succcesfully')\n",
    "\n",
    "html_content[:100] # Looking into the first 100 characters\n"
   ]
  },
  {
   "cell_type": "markdown",
   "metadata": {},
   "source": [
    "# Extraqcting General info"
   ]
  },
  {
   "cell_type": "code",
   "execution_count": 7,
   "metadata": {},
   "outputs": [
    {
     "data": {
      "text/plain": [
       "{'Tipo de operación': 'Arriendo',\n",
       " 'Tipo de propiedad': 'Apartamento',\n",
       " 'Habitaciones': '2',\n",
       " 'Baños': '3',\n",
       " 'Área total': '117 m²',\n",
       " 'Año de construcción': '2024',\n",
       " 'Estrato': '6'}"
      ]
     },
     "execution_count": 7,
     "metadata": {},
     "output_type": "execute_result"
    }
   ],
   "source": [
    "# Ahora vamos a buscar la sección <section class=\"features\"> en el BeautifulSoup\n",
    "features_section = soup.find(\"section\", class_=\"features\")\n",
    "\n",
    "# Dentro de esta sección, buscamos todos los <li class=\"main-features__item\">\n",
    "features_items = features_section.find_all(\"li\", class_=\"main-features__item\") if features_section else []\n",
    "\n",
    "# Extraemos pares clave-valor del contenido de cada <li>\n",
    "info_dict = {}\n",
    "for item in features_items:\n",
    "    key_tag = item.find(\"div\", class_=\"key\")\n",
    "    value_tag = item.find(\"div\", class_=\"value\")\n",
    "    if key_tag and value_tag:\n",
    "        key = key_tag.get_text(strip=True)\n",
    "        value = value_tag.get_text(strip=True)\n",
    "        info_dict[key] = value\n",
    "\n",
    "info_dict\n"
   ]
  },
  {
   "cell_type": "markdown",
   "metadata": {},
   "source": [
    "# Extracting Long-Lat and address"
   ]
  },
  {
   "cell_type": "code",
   "execution_count": 22,
   "metadata": {},
   "outputs": [
    {
     "data": {
      "text/plain": [
       "{'latitud': '6.216726',\n",
       " 'longitud': '-75.553827',\n",
       " 'departamento': 'Antioquia',\n",
       " 'ciudad': 'Medellín',\n",
       " 'dirección': 'Via Las Palmas Al Lado Derecho De Primavera Kr 22 16 30, Medellín, Antioquia, COL'}"
      ]
     },
     "execution_count": 22,
     "metadata": {},
     "output_type": "execute_result"
    }
   ],
   "source": [
    "import re\n",
    "\n",
    "# 1. Buscar el script que contiene 'mapData'\n",
    "script_mapdata = None\n",
    "for tag in soup.find_all(\"script\"):\n",
    "    if tag.string and \"mapData\" in tag.string:\n",
    "        script_mapdata = tag.string\n",
    "        break\n",
    "\n",
    "# 2. Buscar valores específicos con regex\n",
    "if script_mapdata:\n",
    "    lat = re.search(r'latitude:\\s*\"([^\"]+)\"', script_mapdata)\n",
    "    lon = re.search(r'longitude:\\s*\"([^\"]+)\"', script_mapdata)\n",
    "    province = re.search(r'province:\\s*\"([^\"]+)\"', script_mapdata)\n",
    "    locality = re.search(r'locality:\\s*\"([^\"]+)\"', script_mapdata)\n",
    "    address = re.search(r'address:\\s*`([^`]+)`', script_mapdata)\n",
    "\n",
    "    map_info = {\n",
    "        \"latitud\": lat.group(1) if lat else None,\n",
    "        \"longitud\": lon.group(1) if lon else None,\n",
    "        \"departamento\": province.group(1) if province else None,\n",
    "        \"ciudad\": locality.group(1) if locality else None,\n",
    "        \"dirección\": address.group(1) if address else None,\n",
    "    }\n",
    "else:\n",
    "    map_info = \"No se encontró mapData en ningún script.\"\n",
    "\n",
    "map_info\n"
   ]
  },
  {
   "cell_type": "code",
   "execution_count": 20,
   "metadata": {},
   "outputs": [],
   "source": []
  }
 ],
 "metadata": {
  "kernelspec": {
   "display_name": "venv",
   "language": "python",
   "name": "python3"
  },
  "language_info": {
   "codemirror_mode": {
    "name": "ipython",
    "version": 3
   },
   "file_extension": ".py",
   "mimetype": "text/x-python",
   "name": "python",
   "nbconvert_exporter": "python",
   "pygments_lexer": "ipython3",
   "version": "3.13.2"
  }
 },
 "nbformat": 4,
 "nbformat_minor": 2
}
