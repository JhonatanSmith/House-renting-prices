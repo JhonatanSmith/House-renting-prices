{
 "cells": [
  {
   "cell_type": "markdown",
   "metadata": {},
   "source": [
    "# Scraping\n",
    "\n",
    "In this first step, we will capture the data from the internet. The idea is to create a scraper to gather data regarding house pricing. Now, there are a lot of pages where we could obtain that data. To this specific exercise, we will use the folloging web pages;\n",
    "\n",
    " * https://casas.trovit.com.co/arriendo-valle-aburra\n",
    " * https://www.espaciourbano.com/listado_arriendos.asp?sZona=1\n",
    " * https://inmobiliariasantillana.co/propiedades/?filter=true&tipo_de_negocio=Arriendo\n",
    " * https://www.fincaraiz.com.co/arriendo?&searchstring=bello\n",
    " * https://www.fincaraiz.com.co/arriendo/casas-y-apartamentos-y-edificios-y-apartaestudios-y-cabanas-y-casas-campestres/antioquia\n",
    " * https://www.metrocuadrado.com/apartaestudio-apartamento-casa-edificio-de-apartamentos/arriendo/medellin/?search=form\n",
    "  \n",
    "NOTA: fincaraiz.com requieres Selenium. metrocuadrado.com as well. "
   ]
  },
  {
   "cell_type": "markdown",
   "metadata": {},
   "source": [
    "# First page: casas.trovit.com.co\n",
    "\n",
    "Let's first create an schema to obtain all data from this source. At the very begginig we will need to import scraping libraries\n"
   ]
  },
  {
   "cell_type": "code",
   "execution_count": 3,
   "metadata": {},
   "outputs": [],
   "source": [
    "# Scraping libraries\n",
    "import requests\n",
    "from bs4 import BeautifulSoup\n",
    "import urllib\n"
   ]
  },
  {
   "cell_type": "code",
   "execution_count": null,
   "metadata": {},
   "outputs": [
    {
     "name": "stdout",
     "output_type": "stream",
     "text": [
      "HTML Content has been saved succcesfully\n"
     ]
    },
    {
     "data": {
      "text/plain": [
       "'r'"
      ]
     },
     "execution_count": 8,
     "metadata": {},
     "output_type": "execute_result"
    }
   ],
   "source": [
    "\n",
    "url = \"https://casas.trovit.com.co/arriendo-valle-aburra\"\n",
    "response = requests.get(url)\n",
    "\n",
    "# Looking into the HTML\n",
    "html_content = response.text\n",
    "with open(\"page_1.html\", \"w\", encoding='utf-8') as file:\n",
    "    file.write(html_content)\n",
    "    print('HTML Content has been saved succcesfully')\n",
    "\n",
    "html_content[:100] # Looking into the first 100 characters"
   ]
  },
  {
   "cell_type": "code",
   "execution_count": 11,
   "metadata": {},
   "outputs": [
    {
     "name": "stdout",
     "output_type": "stream",
     "text": [
      "<object object at 0x000002724239D660>\n"
     ]
    }
   ],
   "source": [
    "# soup\n",
    "\n",
    "soup = BeautifulSoup(response.text, 'html.parser')\n",
    "\n",
    "# Looking into the soup\n",
    "print(soup.END_ELEMENT_EVENT)"
   ]
  },
  {
   "cell_type": "code",
   "execution_count": null,
   "metadata": {},
   "outputs": [],
   "source": [
    "https://casas.trovit.com.co/arriendo-valle-aburra/1"
   ]
  },
  {
   "cell_type": "code",
   "execution_count": null,
   "metadata": {},
   "outputs": [],
   "source": [
    "\n",
    "for page in range(1,11):\n",
    "\n",
    "    try:\n",
    "\n",
    "        # Let's send the GET petition\n",
    "        response = requests.get(url)\n",
    "\n",
    "        # Remember: Status =200 means that we could access to the webside\n",
    "        if response.status_code == 200:\n",
    "\n",
    "            soup = \n"
   ]
  }
 ],
 "metadata": {
  "kernelspec": {
   "display_name": "windows_venv",
   "language": "python",
   "name": "python3"
  },
  "language_info": {
   "codemirror_mode": {
    "name": "ipython",
    "version": 3
   },
   "file_extension": ".py",
   "mimetype": "text/x-python",
   "name": "python",
   "nbconvert_exporter": "python",
   "pygments_lexer": "ipython3",
   "version": "3.13.0"
  }
 },
 "nbformat": 4,
 "nbformat_minor": 2
}
