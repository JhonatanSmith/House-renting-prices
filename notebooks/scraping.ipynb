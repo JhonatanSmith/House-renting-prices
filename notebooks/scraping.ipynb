{
 "cells": [
  {
   "cell_type": "markdown",
   "metadata": {},
   "source": [
    "# Scraping\n",
    "\n",
    "In this first step, we will capture the data from the internet. The idea is to create a scraper to gather data regarding house pricing. Now, there are a lot of pages where we could obtain that data. To this specific exercise, we will use the folloging web pages;\n",
    "\n",
    " * https://casas.trovit.com.co/arriendo-valle-aburra\n",
    " * https://www.espaciourbano.com/listado_arriendos.asp?sZona=1\n",
    " * https://inmobiliariasantillana.co/propiedades/?filter=true&tipo_de_negocio=Arriendo\n",
    " * https://www.fincaraiz.com.co/arriendo?&searchstring=bello\n",
    " * https://www.fincaraiz.com.co/arriendo/casas-y-apartamentos-y-edificios-y-apartaestudios-y-cabanas-y-casas-campestres/antioquia\n",
    " * https://www.metrocuadrado.com/apartaestudio-apartamento-casa-edificio-de-apartamentos/arriendo/medellin/?search=form\n",
    "  \n",
    "NOTA: fincaraiz.com requieres Selenium. metrocuadrado.com as well. "
   ]
  }
 ],
 "metadata": {
  "language_info": {
   "name": "python"
  }
 },
 "nbformat": 4,
 "nbformat_minor": 2
}
